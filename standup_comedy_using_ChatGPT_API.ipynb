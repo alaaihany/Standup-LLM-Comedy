{
  "nbformat": 4,
  "nbformat_minor": 0,
  "metadata": {
    "colab": {
      "provenance": []
    },
    "kernelspec": {
      "name": "python3",
      "display_name": "Python 3"
    },
    "language_info": {
      "name": "python"
    }
  },
  "cells": [
    {
      "cell_type": "code",
      "execution_count": null,
      "metadata": {
        "id": "kpXpHqXsjMp4",
        "colab": {
          "base_uri": "https://localhost:8080/"
        },
        "outputId": "4515446d-a191-4739-a834-23dbe3b645dd"
      },
      "outputs": [
        {
          "output_type": "stream",
          "name": "stdout",
          "text": [
            "Requirement already satisfied: openai==1.2 in /usr/local/lib/python3.10/dist-packages (1.2.0)\n",
            "Requirement already satisfied: anyio<4,>=3.5.0 in /usr/local/lib/python3.10/dist-packages (from openai==1.2) (3.7.1)\n",
            "Requirement already satisfied: distro<2,>=1.7.0 in /usr/lib/python3/dist-packages (from openai==1.2) (1.7.0)\n",
            "Requirement already satisfied: httpx<1,>=0.23.0 in /usr/local/lib/python3.10/dist-packages (from openai==1.2) (0.27.0)\n",
            "Requirement already satisfied: pydantic<3,>=1.9.0 in /usr/local/lib/python3.10/dist-packages (from openai==1.2) (2.6.1)\n",
            "Requirement already satisfied: tqdm>4 in /usr/local/lib/python3.10/dist-packages (from openai==1.2) (4.66.2)\n",
            "Requirement already satisfied: typing-extensions<5,>=4.5 in /usr/local/lib/python3.10/dist-packages (from openai==1.2) (4.9.0)\n",
            "Requirement already satisfied: idna>=2.8 in /usr/local/lib/python3.10/dist-packages (from anyio<4,>=3.5.0->openai==1.2) (3.6)\n",
            "Requirement already satisfied: sniffio>=1.1 in /usr/local/lib/python3.10/dist-packages (from anyio<4,>=3.5.0->openai==1.2) (1.3.0)\n",
            "Requirement already satisfied: exceptiongroup in /usr/local/lib/python3.10/dist-packages (from anyio<4,>=3.5.0->openai==1.2) (1.2.0)\n",
            "Requirement already satisfied: certifi in /usr/local/lib/python3.10/dist-packages (from httpx<1,>=0.23.0->openai==1.2) (2024.2.2)\n",
            "Requirement already satisfied: httpcore==1.* in /usr/local/lib/python3.10/dist-packages (from httpx<1,>=0.23.0->openai==1.2) (1.0.4)\n",
            "Requirement already satisfied: h11<0.15,>=0.13 in /usr/local/lib/python3.10/dist-packages (from httpcore==1.*->httpx<1,>=0.23.0->openai==1.2) (0.14.0)\n",
            "Requirement already satisfied: annotated-types>=0.4.0 in /usr/local/lib/python3.10/dist-packages (from pydantic<3,>=1.9.0->openai==1.2) (0.6.0)\n",
            "Requirement already satisfied: pydantic-core==2.16.2 in /usr/local/lib/python3.10/dist-packages (from pydantic<3,>=1.9.0->openai==1.2) (2.16.2)\n",
            "Requirement already satisfied: tiktoken in /usr/local/lib/python3.10/dist-packages (0.6.0)\n",
            "Requirement already satisfied: regex>=2022.1.18 in /usr/local/lib/python3.10/dist-packages (from tiktoken) (2023.12.25)\n",
            "Requirement already satisfied: requests>=2.26.0 in /usr/local/lib/python3.10/dist-packages (from tiktoken) (2.31.0)\n",
            "Requirement already satisfied: charset-normalizer<4,>=2 in /usr/local/lib/python3.10/dist-packages (from requests>=2.26.0->tiktoken) (3.3.2)\n",
            "Requirement already satisfied: idna<4,>=2.5 in /usr/local/lib/python3.10/dist-packages (from requests>=2.26.0->tiktoken) (3.6)\n",
            "Requirement already satisfied: urllib3<3,>=1.21.1 in /usr/local/lib/python3.10/dist-packages (from requests>=2.26.0->tiktoken) (2.0.7)\n",
            "Requirement already satisfied: certifi>=2017.4.17 in /usr/local/lib/python3.10/dist-packages (from requests>=2.26.0->tiktoken) (2024.2.2)\n",
            "Requirement already satisfied: cohere in /usr/local/lib/python3.10/dist-packages (4.50)\n",
            "Requirement already satisfied: aiohttp<4.0,>=3.0 in /usr/local/lib/python3.10/dist-packages (from cohere) (3.9.3)\n",
            "Requirement already satisfied: backoff<3.0,>=2.0 in /usr/local/lib/python3.10/dist-packages (from cohere) (2.2.1)\n",
            "Requirement already satisfied: fastavro<2.0,>=1.8 in /usr/local/lib/python3.10/dist-packages (from cohere) (1.9.4)\n",
            "Requirement already satisfied: importlib_metadata<7.0,>=6.0 in /usr/local/lib/python3.10/dist-packages (from cohere) (6.11.0)\n",
            "Requirement already satisfied: requests<3.0.0,>=2.25.0 in /usr/local/lib/python3.10/dist-packages (from cohere) (2.31.0)\n",
            "Requirement already satisfied: urllib3<3,>=1.26 in /usr/local/lib/python3.10/dist-packages (from cohere) (2.0.7)\n",
            "Requirement already satisfied: aiosignal>=1.1.2 in /usr/local/lib/python3.10/dist-packages (from aiohttp<4.0,>=3.0->cohere) (1.3.1)\n",
            "Requirement already satisfied: attrs>=17.3.0 in /usr/local/lib/python3.10/dist-packages (from aiohttp<4.0,>=3.0->cohere) (23.2.0)\n",
            "Requirement already satisfied: frozenlist>=1.1.1 in /usr/local/lib/python3.10/dist-packages (from aiohttp<4.0,>=3.0->cohere) (1.4.1)\n",
            "Requirement already satisfied: multidict<7.0,>=4.5 in /usr/local/lib/python3.10/dist-packages (from aiohttp<4.0,>=3.0->cohere) (6.0.5)\n",
            "Requirement already satisfied: yarl<2.0,>=1.0 in /usr/local/lib/python3.10/dist-packages (from aiohttp<4.0,>=3.0->cohere) (1.9.4)\n",
            "Requirement already satisfied: async-timeout<5.0,>=4.0 in /usr/local/lib/python3.10/dist-packages (from aiohttp<4.0,>=3.0->cohere) (4.0.3)\n",
            "Requirement already satisfied: zipp>=0.5 in /usr/local/lib/python3.10/dist-packages (from importlib_metadata<7.0,>=6.0->cohere) (3.17.0)\n",
            "Requirement already satisfied: charset-normalizer<4,>=2 in /usr/local/lib/python3.10/dist-packages (from requests<3.0.0,>=2.25.0->cohere) (3.3.2)\n",
            "Requirement already satisfied: idna<4,>=2.5 in /usr/local/lib/python3.10/dist-packages (from requests<3.0.0,>=2.25.0->cohere) (3.6)\n",
            "Requirement already satisfied: certifi>=2017.4.17 in /usr/local/lib/python3.10/dist-packages (from requests<3.0.0,>=2.25.0->cohere) (2024.2.2)\n",
            "<module 'openai.version' from '/usr/local/lib/python3.10/dist-packages/openai/version.py'>\n"
          ]
        }
      ],
      "source": [
        "!pip install openai==1.2\n",
        "!pip install tiktoken\n",
        "!pip install cohere\n",
        "\n",
        "import openai\n",
        "import tiktoken\n",
        "import cohere\n",
        "\n",
        "# Set up OpenAI API key\n",
        "print(openai.version)\n",
        "from openai._client import OpenAI\n",
        "client = OpenAI(api_key = 'Key')"
      ]
    },
    {
      "cell_type": "code",
      "source": [
        "topics = ['landing a job in europe',\n",
        "          'attending a hackathon']\n",
        "\n",
        "\n",
        "\n",
        "oneliner = [\n",
        "    \"When arab moms promise something, it's like promising time will go backwards.\",\n",
        "]\n",
        "\n",
        "single_words = [\n",
        "    'incredibly_long',\n",
        "    'boring',\n",
        "    'dangerous',\n",
        "    'questionable',\n",
        "    'frightening',\n",
        "    'reassuring'\n",
        "]\n",
        "\n",
        "\n",
        "# providing context\n",
        "\n"
      ],
      "metadata": {
        "id": "GJkyAO3sjSRX"
      },
      "execution_count": null,
      "outputs": []
    },
    {
      "cell_type": "code",
      "source": [
        "# generate jokes\n",
        "\n",
        "def generate_joke(prompt):\n",
        "  response = client.chat.completions.create(\n",
        "      model = \"gpt-3.5-turbo\",\n",
        "      max_tokens = 200,\n",
        "      # stop = \".\",\n",
        "      messages = [\n",
        "          {\"role\": \"user\", \"content\": \"Generate a stand-up style set based on this topic, stand up comedians no longer exclusively greet their audience with 'ladies and gentlemen' - sometimes they skip the introduction altogether: \" + prompt}]\n",
        "          # {\"role\": \"user\", \"context\": \"Generate a one-line stand-up style joke based on a single word, relating it to driving with the comedian.\"},]\n",
        "  )\n",
        "  return response.choices[0].message.content.strip()"
      ],
      "metadata": {
        "id": "ZfTHQAeQtMo8"
      },
      "execution_count": null,
      "outputs": []
    },
    {
      "cell_type": "code",
      "source": [
        "#Generate jokes\n",
        "\n",
        "def generate_jokes(context_array):\n",
        "  for context in context_array:\n",
        "    print(\"topic/context: \", context)\n",
        "    joke = generate_joke(context)\n",
        "    print(\"jokes: \", joke)\n",
        "    print('✨')"
      ],
      "metadata": {
        "id": "_dfNfoI1XvBk"
      },
      "execution_count": null,
      "outputs": []
    },
    {
      "cell_type": "code",
      "source": [
        "generate_jokes(topics)"
      ],
      "metadata": {
        "id": "kmin6XHQYPK_",
        "colab": {
          "base_uri": "https://localhost:8080/"
        },
        "outputId": "2dcd0f00-6a90-42b4-c9ed-b6fd676db40f"
      },
      "execution_count": null,
      "outputs": [
        {
          "output_type": "stream",
          "name": "stdout",
          "text": [
            "topic/context:  landing a job in europe\n",
            "jokes:  Hey everyone, how's it going tonight? So I recently landed a job in Europe, which was a huge relief because let me tell you, job hunting is no joke. It's like trying to find a needle in a haystack, except the needle is a job that pays well and the haystack is full of rejection letters.\n",
            "\n",
            "But landing a job in Europe was a whole new level of excitement. I mean, not only do I get to explore a new country and culture, but I also get to experience the joy of European bureaucracy. Seriously, trying to navigate through all the paperwork and red tape is like trying to solve a Rubik's cube blindfolded.\n",
            "\n",
            "And let's talk about the interviews. I had to do a video interview with a panel of people who looked like they just stepped off the set of a high-fashion photo shoot. I swear, I felt like I was auditioning for the next Bond villain role.\n",
            "\n",
            "But hey, I finally got the job and now I'm living the\n",
            "✨\n",
            "topic/context:  attending a hackathon\n",
            "jokes:  Hey everyone, how's it going? Happy to be here tonight at this hackathon, or as I like to call it, the nerdiest party in town. Seriously, if you think a night out at a club is wild, you should see these programmers when they finally fix that bug they've been working on for hours. It's like winning the lottery for them.\n",
            "\n",
            "But you know, it's funny how stand-up comedians are changing up their intros these days. You used to always hear \"ladies and gentlemen\" when a comic took the stage. Now, we're just jumping right into it. I mean, I get it. As soon as a comic gets on stage, we're not really sure who's who in the crowd. Half the audience could be asleep for all we know.\n",
            "\n",
            "So I'm thinking, maybe I should start trying out some new intros. Like instead of \"ladies and gentlemen,\" I could go with \"hackers and coders\" or \"\n",
            "✨\n"
          ]
        }
      ]
    },
    {
      "cell_type": "code",
      "source": [
        "generate_jokes(oneliner)"
      ],
      "metadata": {
        "id": "KAdyzDu567Jf",
        "colab": {
          "base_uri": "https://localhost:8080/"
        },
        "outputId": "4f5e1945-e2df-4f93-e84c-98bfdac85db0"
      },
      "execution_count": null,
      "outputs": [
        {
          "output_type": "stream",
          "name": "stdout",
          "text": [
            "topic/context:  When arab moms promise something, it's like promising time will go backwards.\n",
            "jokes:  Hey everyone, how’s it going? Sorry, I must have skipped the usual intro of ‘ladies and gentlemen’ there, but hey, who needs formalities, am I right?\n",
            "\n",
            "So, have you ever noticed how when Arab moms promise something, it’s like they’re claiming time will go backwards? Seriously, my mom will be like, “Don’t worry, I’ll make sure you get your homework done on time,” and I’m just sitting there thinking, “Is she about to invent a time machine or what?”\n",
            "\n",
            "I swear, Arab moms have this magical way of making the impossible seem possible. Like, if my mom says she’s gonna cook a feast for dinner, you better bet your bottom dollar that that table will be piled high with deliciousness. And she’ll do it all with a smile on her face, because hey, making the impossible possible is just another day in the life of an Arab mom.\n",
            "\n",
            "But let’s be real, sometimes those promises can be a little\n",
            "✨\n"
          ]
        }
      ]
    },
    {
      "cell_type": "code",
      "source": [
        "generate_jokes(single_words)"
      ],
      "metadata": {
        "id": "CNSpDw0H66oR",
        "colab": {
          "base_uri": "https://localhost:8080/"
        },
        "outputId": "9579acd8-ea6f-4bff-f9e2-aa3dc5dcfbb2"
      },
      "execution_count": null,
      "outputs": [
        {
          "output_type": "stream",
          "name": "stdout",
          "text": [
            "topic/context:  incredibly_long\n",
            "jokes:  Hey there, lovely people! How's everybody doing tonight? Oh, who am I kidding, I can't see any of you! But I'm sure you're all looking fabulous.\n",
            "\n",
            "You know, I was thinking about how stand-up comedians used to always greet the audience with \"ladies and gentlemen.\" But now, some of us are like, forget the introduction, let's just dive right into the jokes!\n",
            "\n",
            "I mean, why waste time with formalities when we can get straight to the funny stuff? Besides, who even identifies strictly as a lady or a gentleman these days, am I right?\n",
            "\n",
            "So here I am, ready to entertain you all with my quirky observations and ridiculous thoughts. And I don't need a fancy greeting to get the laughs rolling!\n",
            "\n",
            "But seriously, it's great to be here with all of you tonight. Let's have some fun together, shall we? So buckle up, folks, because I'm about to take you on a wild, hilarious ride. Let\n",
            "✨\n",
            "topic/context:  boring\n",
            "jokes:  You ever notice how stand-up comedians these days just skip right over the whole \"ladies and gentlemen\" bit? Like, no introduction, no warm up, just straight into the jokes. I mean, come on, at least pretend like you care about us in the audience!\n",
            "\n",
            "I miss the days when comedians would start off with a polite greeting, you know? Now it's all just, \"Hey, what's up? Let's get this show on the road!\" I mean, I get it, time is money and all that, but a little courtesy goes a long way, folks.\n",
            "\n",
            "I also find it kind of boring when comedians don't even acknowledge the audience before launching into their set. Like, are we just props for your jokes now? Can we get a little love here, please?\n",
            "\n",
            "But hey, I guess times are changing and people's attention spans are getting shorter. Maybe we're just too impatient for pleasantries these days. But come on, comed\n",
            "✨\n",
            "topic/context:  dangerous\n",
            "jokes:  \"Have you guys noticed that stand-up comedians are getting a little lazy these days? I mean, back in my day, they used to come out on stage and say 'ladies and gentlemen.' But now? Now they just skip the whole introduction altogether. I mean, it's a little dangerous if you ask me. How am I supposed to know if I'm in the right place? Maybe I stumbled into a clown convention instead of a comedy show. I mean, I like a surprise as much as the next guy, but I draw the line at accidentally joining a mime troupe. And don't even get me started on the comedians who just start their set without any warning. Like, how am I supposed to mentally prepare myself for the onslaught of dad jokes and observational humor? At least give me a heads up, like 'brace yourself for bad puns and recycled jokes.' But hey, maybe I'm just old-fashioned. Maybe the new wave of comedy is all about keeping\n",
            "✨\n",
            "topic/context:  questionable\n",
            "jokes:  So I heard that stand-up comedians are now skipping the whole \"ladies and gentlemen\" bit when they greet the audience. I mean, what's next? Are they just going to walk on stage and start with \"Hey, you humanoids\"?\n",
            "\n",
            "I don't know about you, but I think skipping the traditional introduction is just plain lazy. I mean, come on, at least put in a little effort and acknowledge the fact that you're performing for a bunch of people who took the time to come see you.\n",
            "\n",
            "But hey, maybe this new trend is just a sign of the times. Maybe we're all just too busy and impatient to bother with formalities anymore. I can see it now: \"Alright, alright, settle down, you creatures of the night, let's get this show on the road!\"\n",
            "\n",
            "But hey, who am I to judge? As long as the jokes are funny, I guess it doesn't really matter how the comedian greets the audience. Just please,\n",
            "✨\n",
            "topic/context:  frightening\n",
            "jokes:  Hey everybody, how are we all doing tonight? Oh wait, scratch that. I mean, hello there...um, you. Yeah, you know who you are. \n",
            "\n",
            "It's like stand-up comedians are now playing a game of \"guess who's in the audience.\" They've abandoned the traditional \"ladies and gentlemen\" introduction and now it's just a free-for-all. I'm waiting for the day when a comedian just comes out and says, \"Hey, you bunch of random strangers. Let's get this show on the road!\"\n",
            "\n",
            "I can't help but feel a little on edge when the usual formalities are thrown out the window. It's like, what's next? Are they going to start heckling us before we even have a chance to heckle them? \"Hey, guy in the front row with the bad haircut, you think you're funny? Well guess what, I'm funnier!\"\n",
            "\n",
            "But hey, who needs the formalities anyway? Let's just\n",
            "✨\n",
            "topic/context:  reassuring\n",
            "jokes:  Hey everyone, thanks for coming out tonight. Or should I say, thanks for showing up - I guess that's the modern way to phrase it. Just imagine if we all started skipping introductions in real life too. \"Hey mom, I'm home!\" \"Hey boss, I'm at work!\" It would save us so much time and awkward small talk.\n",
            "\n",
            "But seriously, I think it's kind of refreshing that stand-up comedians are mixing things up with their greetings. No more of the same old \"ladies and gentlemen\" routine. It's like a breath of fresh air. Or maybe it's just laziness. Either way, I'm all for it.\n",
            "\n",
            "I mean, who needs formalities when we're all just here to laugh, right? We're all just a bunch of weirdos in a dark room, hoping to forget about our problems for a little while. So let's cut to the chase and get right to the jokes.\n",
            "\n",
            "So how about a round of applause\n",
            "✨\n"
          ]
        }
      ]
    },
    {
      "cell_type": "code",
      "source": [
        "import nltk\n",
        "nltk.download('punkt')\n",
        "\n",
        "from nltk.tokenize import word_tokenize\n",
        "from nltk.translate.bleu_score import sentence_bleu\n",
        "from nltk.util import ngrams\n",
        "\n",
        "\n",
        "def calculate_rouge_score(generated_jokes, reference_jokes, n):\n",
        "  generated_jokes = word_tokenize(generated_jokes.lower())\n",
        "  reference_jokes = word_tokenize(reference_jokes.lower())\n",
        "\n",
        "  generated_n = set(ngrams(generated_jokes, n))\n",
        "  reference_n = set(ngrams(reference_jokes, n))\n",
        "\n",
        "  overlap = len(generated_n.intersection(reference_n))\n",
        "\n",
        "  recall = overlap / len(reference_n) if len(reference_n) > 0 else 0\n",
        "\n",
        "  return recall\n",
        "\n",
        "generated_text = \"This is a sample sentence for ROUGE score calculation.\"\n",
        "reference_text = \"This is a reference sentence for ROUGE score calculation.\"\n",
        "\n",
        "# Calculate ROUGE-1 score\n",
        "rouge_1_score = calculate_rouge_score(generated_text, reference_text, 1)\n",
        "\n",
        "# Calculate ROUGE-2 score\n",
        "rouge_2_score = calculate_rouge_score(generated_text, reference_text, 2)\n",
        "\n",
        "# Print ROUGE scores\n",
        "print(\"ROUGE-1 Score:\", rouge_1_score)\n",
        "print(\"ROUGE-2 Score:\", rouge_2_score)"
      ],
      "metadata": {
        "id": "AU1yr-Lu66lj",
        "colab": {
          "base_uri": "https://localhost:8080/"
        },
        "outputId": "b9b45f96-0add-4852-e7b0-4042a8843a4b"
      },
      "execution_count": null,
      "outputs": [
        {
          "output_type": "stream",
          "name": "stdout",
          "text": [
            "ROUGE-1 Score: 0.9\n",
            "ROUGE-2 Score: 0.7777777777777778\n"
          ]
        },
        {
          "output_type": "stream",
          "name": "stderr",
          "text": [
            "[nltk_data] Downloading package punkt to /root/nltk_data...\n",
            "[nltk_data]   Package punkt is already up-to-date!\n"
          ]
        }
      ]
    },
    {
      "cell_type": "code",
      "source": [],
      "metadata": {
        "id": "LhRIkCi066iR"
      },
      "execution_count": null,
      "outputs": []
    },
    {
      "cell_type": "code",
      "source": [],
      "metadata": {
        "id": "X_UI1_wA66f-"
      },
      "execution_count": null,
      "outputs": []
    }
  ]
}